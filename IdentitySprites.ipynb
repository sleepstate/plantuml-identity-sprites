{
 "cells": [
  {
   "cell_type": "markdown",
   "metadata": {},
   "source": [
    "\n",
    "# Identity Sprites Notebook\n",
    "\n",
    "Below is a structured Jupyter notebook (as markdown and code snippets) to create and document the diagram you want. You can create a new notebook file called `IdentitySprites.ipynb` and use this structure for each cell.\n",
    "\n",
    "---\n",
    "\n",
    "### Instructions for Use:\n",
    "1. Create a Jupyter notebook (`IdentitySprites.ipynb`).\n",
    "2. Copy the code and markdown above into each cell.\n",
    "3. Modify the PlantUML diagram by editing the `plantuml_code` variable to include your specific sprites.\n",
    "4. Run the cells to generate and view the diagram as an embedded SVG in the notebook.\n",
    "\n",
    "You can now update and modify the notebook to handle different sets of icons and themes by changing the PlantUML code. Let me know if you need further customization!\n",
    "\n",
    "---\n",
    "\n",
    "## Folder Structure\n",
    "\n",
    "```\n",
    "/Users/bc/.bc/assets/plantuml-identity-sprites\n",
    "├── Icons.md\n",
    "├── IdentitySprites.ipynb\n",
    "├── LICENSE\n",
    "├── README.md\n",
    "├── common.puml\n",
    "├── create_sprites.sh\n",
    "├── icons/...\n",
    "├── meta\n",
    "├── puml/...\n",
    "└── sprite_report.log\n",
    "```\n",
    "\n",
    "---\n",
    "\n",
    "## Instructions for Use:\n",
    "1. Create a Jupyter notebook (`IdentitySprites.ipynb`).\n",
    "2. Copy the code and markdown above into each cell.\n",
    "3. Modify the structure as per your needs, using the icon names from your `icons` folder.\n",
    "4. Run the cells to generate and visualize the diagram.\n",
    "\n",
    "You can update and modify the notebook to handle different sets of icons and themes by changing the node labels and color codes. Let me know if you need further modifications!"
   ]
  },
  {
   "cell_type": "markdown",
   "metadata": {
    "vscode": {
     "languageId": "plaintext"
    }
   },
   "source": [
    "\n",
    "---\n",
    "\n",
    "# Code Starts Here\n",
    "\n",
    "---"
   ]
  },
  {
   "cell_type": "markdown",
   "metadata": {},
   "source": [
    "# PlantUML Identity Sprites Notebook\n",
    "This notebook generates diagrams using `plantuml` and displays them directly within the notebook as embedded SVG images.\n",
    "\n",
    "## Step 1: Install dependencies\n",
    "Run the following command to install the required libraries if not already installed in your environment. PlantUML and Graphviz should also be installed.\n"
   ]
  },
  {
   "cell_type": "code",
   "execution_count": 8,
   "metadata": {},
   "outputs": [
    {
     "name": "stdout",
     "output_type": "stream",
     "text": [
      "Requirement already satisfied: graphviz in /Users/bc/anaconda3/lib/python3.12/site-packages (0.20.3)\n",
      "Requirement already satisfied: plantuml in /Users/bc/anaconda3/lib/python3.12/site-packages (0.3.0)\n",
      "Requirement already satisfied: httplib2 in /Users/bc/anaconda3/lib/python3.12/site-packages (from plantuml) (0.22.0)\n",
      "Requirement already satisfied: pyparsing!=3.0.0,!=3.0.1,!=3.0.2,!=3.0.3,<4,>=2.4.2 in /Users/bc/anaconda3/lib/python3.12/site-packages (from httplib2->plantuml) (3.0.9)\n"
     ]
    }
   ],
   "source": [
    "!pip install graphviz plantuml\n"
   ]
  },
  {
   "cell_type": "markdown",
   "metadata": {},
   "source": [
    "## Step 2: Define the PlantUML diagram\n",
    "In this step, we will use PlantUML to create a diagram that reflects your folder structure and icon theming.\n",
    "\n",
    "The following cell defines the PlantUML content. You can modify the `plantuml_code` variable to include specific icons and customize the diagram.\n"
   ]
  },
  {
   "cell_type": "code",
   "execution_count": 9,
   "metadata": {},
   "outputs": [],
   "source": [
    "# PlantUML code to define your icon structure\n",
    "plantuml_code = \"\"\"\n",
    "@startuml\n",
    "!include https://raw.githubusercontent.com/sleepstate/plantuml-identity-sprites/refs/heads/main/common.puml\n",
    "hide stereotype\n",
    "title Icon Theming Demonstration\n",
    "skinparam backgroundcolor transparent\n",
    "\n",
    "' ICON_ACCESS_TOKEN\n",
    "folder \"ICON_ACCESS_TOKEN\" {\n",
    "  ID1_ICON_ACCESS_TOKEN #black\n",
    "  ID1_ICON_ACCESS_TOKEN #red\n",
    "  ID1_ICON_ACCESS_TOKEN #blue\n",
    "  ID1_ICON_ACCESS_TOKEN #green\n",
    "  ID1_ICON_ACCESS_TOKEN #yellow\n",
    "}\n",
    "\n",
    "' ICON_API\n",
    "folder \"ICON_API\" {\n",
    "  ID1_ICON_API #black\n",
    "  ID1_ICON_API #red\n",
    "  ID1_ICON_API #blue\n",
    "  ID1_ICON_API #green\n",
    "  ID1_ICON_API #yellow\n",
    "}\n",
    "@enduml\n",
    "\"\"\"\n",
    "\n",
    "# Write the PlantUML code to a file\n",
    "with open(\"identity_sprites_diagram.puml\", \"w\") as f:\n",
    "    f.write(plantuml_code)\n"
   ]
  },
  {
   "cell_type": "markdown",
   "metadata": {},
   "source": [
    "## Step 2: Define the PlantUML diagram\n",
    "In this step, we will use PlantUML to create a diagram that reflects your folder structure and icon theming.\n",
    "\n",
    "The following cell defines the PlantUML content. You can modify the `plantuml_code` variable to include specific icons and customize the diagram.\n"
   ]
  },
  {
   "cell_type": "code",
   "execution_count": 10,
   "metadata": {},
   "outputs": [],
   "source": [
    "# PlantUML code to define your icon structure\n",
    "plantuml_code = \"\"\"\n",
    "@startuml\n",
    "!include https://raw.githubusercontent.com/sleepstate/plantuml-identity-sprites/refs/heads/main/common.puml\n",
    "hide stereotype\n",
    "title Icon Theming Demonstration\n",
    "skinparam backgroundcolor transparent\n",
    "\n",
    "' ICON_ACCESS_TOKEN\n",
    "folder \"ICON_ACCESS_TOKEN\" {\n",
    "  ID1_ICON_ACCESS_TOKEN #black\n",
    "  ID1_ICON_ACCESS_TOKEN #red\n",
    "  ID1_ICON_ACCESS_TOKEN #blue\n",
    "  ID1_ICON_ACCESS_TOKEN #green\n",
    "  ID1_ICON_ACCESS_TOKEN #yellow\n",
    "}\n",
    "\n",
    "' ICON_API\n",
    "folder \"ICON_API\" {\n",
    "  ID1_ICON_API #black\n",
    "  ID1_ICON_API #red\n",
    "  ID1_ICON_API #blue\n",
    "  ID1_ICON_API #green\n",
    "  ID1_ICON_API #yellow\n",
    "}\n",
    "@enduml\n",
    "\"\"\"\n",
    "\n",
    "# Write the PlantUML code to a file\n",
    "with open(\"identity_sprites_diagram.puml\", \"w\") as f:\n",
    "    f.write(plantuml_code)\n"
   ]
  },
  {
   "cell_type": "markdown",
   "metadata": {},
   "source": [
    "## Step 3: Render the PlantUML diagram\n",
    "In this step, we will generate an SVG from the PlantUML code and display it directly in the notebook.\n"
   ]
  },
  {
   "cell_type": "code",
   "execution_count": 11,
   "metadata": {},
   "outputs": [
    {
     "data": {
      "image/svg+xml": [
       "<svg xmlns=\"http://www.w3.org/2000/svg\" xmlns:xlink=\"http://www.w3.org/1999/xlink\" contentStyleType=\"text/css\" height=\"177px\" preserveAspectRatio=\"none\" style=\"width:373px;height:177px;\" version=\"1.1\" viewBox=\"0 0 373 177\" width=\"373px\" zoomAndPan=\"magnify\"><title>Icon Theming Demonstration</title><defs/><g><text fill=\"#000000\" font-family=\"sans-serif\" font-size=\"14\" font-weight=\"bold\" lengthAdjust=\"spacing\" textLength=\"210.6357\" x=\"74.1821\" y=\"23.5352\">Icon Theming Demonstration</text><!--cluster ICON_ACCESS_TOKEN--><g id=\"cluster_ICON_ACCESS_TOKEN\"><path d=\"M8.5,43.4883 L165.3525,43.4883 A3.75,3.75 0 0 1 167.8525,45.9883 L174.8525,65.9766 L213.5,65.9766 A2.5,2.5 0 0 1 216,68.4766 L216,168.4783 A2.5,2.5 0 0 1 213.5,170.9783 L8.5,170.9783 A2.5,2.5 0 0 1 6,168.4783 L6,45.9883 A2.5,2.5 0 0 1 8.5,43.4883 \" fill=\"none\" style=\"stroke:#000000;stroke-width:1.5;\"/><line style=\"stroke:#000000;stroke-width:1.5;\" x1=\"6\" x2=\"174.8525\" y1=\"65.9766\" y2=\"65.9766\"/><text fill=\"#000000\" font-family=\"sans-serif\" font-size=\"14\" font-weight=\"bold\" lengthAdjust=\"spacing\" textLength=\"155.8525\" x=\"10\" y=\"59.0234\">ICON_ACCESS_TOKEN</text></g><!--cluster ICON_API--><g id=\"cluster_ICON_API\"><path d=\"M242.5,43.4883 L310.9365,43.4883 A3.75,3.75 0 0 1 313.4365,45.9883 L320.4365,65.9766 L363.5,65.9766 A2.5,2.5 0 0 1 366,68.4766 L366,168.4783 A2.5,2.5 0 0 1 363.5,170.9783 L242.5,170.9783 A2.5,2.5 0 0 1 240,168.4783 L240,45.9883 A2.5,2.5 0 0 1 242.5,43.4883 \" fill=\"none\" style=\"stroke:#000000;stroke-width:1.5;\"/><line style=\"stroke:#000000;stroke-width:1.5;\" x1=\"240\" x2=\"320.4365\" y1=\"65.9766\" y2=\"65.9766\"/><text fill=\"#000000\" font-family=\"sans-serif\" font-size=\"14\" font-weight=\"bold\" lengthAdjust=\"spacing\" textLength=\"67.4365\" x=\"244\" y=\"59.0234\">ICON_API</text></g><!--entity ID1_ICON_ACCESS_TOKEN--><g id=\"elem_ID1_ICON_ACCESS_TOKEN\"><ellipse cx=\"111.0048\" cy=\"86.9883\" fill=\"#FFFF00\" rx=\"8\" ry=\"8\" style=\"stroke:#181818;stroke-width:0.5;\"/><path d=\"M111.0048,94.9883 L111.0048,121.9883 M98.0048,102.9883 L124.0048,102.9883 M111.0048,121.9883 L98.0048,136.9883 M111.0048,121.9883 L124.0048,136.9883 \" fill=\"none\" style=\"stroke:#181818;stroke-width:0.5;\"/><text fill=\"#000000\" font-family=\"sans-serif\" font-size=\"14\" lengthAdjust=\"spacing\" textLength=\"177.8096\" x=\"22.1\" y=\"152.0234\">ID1_ICON_ACCESS_TOKEN</text></g><!--entity ID1_ICON_API--><g id=\"elem_ID1_ICON_API\"><ellipse cx=\"303.0006\" cy=\"86.9883\" fill=\"#FFFF00\" rx=\"8\" ry=\"8\" style=\"stroke:#181818;stroke-width:0.5;\"/><path d=\"M303.0006,94.9883 L303.0006,121.9883 M290.0006,102.9883 L316.0006,102.9883 M303.0006,121.9883 L290.0006,136.9883 M303.0006,121.9883 L316.0006,136.9883 \" fill=\"none\" style=\"stroke:#181818;stroke-width:0.5;\"/><text fill=\"#000000\" font-family=\"sans-serif\" font-size=\"14\" lengthAdjust=\"spacing\" textLength=\"93.7412\" x=\"256.13\" y=\"152.0234\">ID1_ICON_API</text></g><!--SRC=[VO_BQiCm44Nt-effkkWg5jrsLvmiH20n97iZMnDRH2-a4S6K_djbIYauTRTpxkMUUTAkDraXZ4GXlN4UvRqQD8svombZxnsXewhtbYU36199GXwCT9IjsMfLgAPfcqBKX8b7l2O-ebI9MwaTBqNhNHLAc8qb3OamegSf82j5Wo3A1bn6jDeDiCEIJXGbQUzOkcaNP9GMEjdVXkYpKxqtFa99k5HGMMVi1KHzEhRlTRq_dzlBwR0_igit2YDi7iW6FXY0sBss3mYUErDsrd54zLytupeT8g9RnnCQu-_iy_UPHYn-QCHIlH5_6S_NfUXtSk4t7n-rvkkFpHS0]--></g></svg>"
      ],
      "text/plain": [
       "<IPython.core.display.SVG object>"
      ]
     },
     "metadata": {},
     "output_type": "display_data"
    }
   ],
   "source": [
    "import subprocess\n",
    "from IPython.display import SVG, display\n",
    "\n",
    "# Render the PlantUML diagram to SVG using the PlantUML command-line\n",
    "subprocess.run([\"plantuml\", \"-tsvg\", \"identity_sprites_diagram.puml\"])\n",
    "\n",
    "# Display the generated SVG directly in the notebook\n",
    "display(SVG(filename=\"identity_sprites_diagram.svg\"))\n"
   ]
  },
  {
   "cell_type": "markdown",
   "metadata": {},
   "source": [
    "## Step 4: Customize for Your Icons\n",
    "Now that you have a basic PlantUML diagram, you can modify the code in the `plantuml_code` variable to reflect your specific folder structure and icons. \n",
    "For example, replace `ID1_ICON_ACCESS_TOKEN` with the actual sprite names from `common.puml`.\n",
    "\n",
    "After making changes to the PlantUML code, rerun the cells to regenerate and display the updated diagram.\n"
   ]
  }
 ],
 "metadata": {
  "kernelspec": {
   "display_name": "base",
   "language": "python",
   "name": "python3"
  },
  "language_info": {
   "codemirror_mode": {
    "name": "ipython",
    "version": 3
   },
   "file_extension": ".py",
   "mimetype": "text/x-python",
   "name": "python",
   "nbconvert_exporter": "python",
   "pygments_lexer": "ipython3",
   "version": "3.12.4"
  }
 },
 "nbformat": 4,
 "nbformat_minor": 2
}
